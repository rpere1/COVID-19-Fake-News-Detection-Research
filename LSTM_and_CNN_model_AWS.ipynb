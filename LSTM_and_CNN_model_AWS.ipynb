{
 "cells": [
  {
   "cell_type": "code",
   "execution_count": 1,
   "metadata": {
    "id": "f8TykjiFFFoT"
   },
   "outputs": [],
   "source": [
    "import re\n",
    "import pandas as pd\n",
    "from nltk.stem.porter import PorterStemmer\n",
    "from nltk.corpus import stopwords\n",
    "from sklearn.feature_extraction.text import TfidfVectorizer\n",
    "from sklearn.model_selection import train_test_split\n",
    "import pickle\n",
    "from sklearn.linear_model import LogisticRegressionCV\n",
    "import numpy as np\n",
    "import boto3"
   ]
  },
  {
   "cell_type": "code",
   "execution_count": 2,
   "metadata": {
    "id": "mPz4Q8tk7qo-"
   },
   "outputs": [],
   "source": [
    "s3 = boto3.resource(service_name = 's3',\n",
    "                    region_name = 'us-east-2',\n",
    "                    aws_access_key_id = ' ',\n",
    "                    aws_secret_access_key = '')"
   ]
  },
  {
   "cell_type": "markdown",
   "metadata": {
    "id": "WnOmLPyn6ixX"
   },
   "source": []
  },
  {
   "cell_type": "code",
   "execution_count": 3,
   "metadata": {},
   "outputs": [],
   "source": [
    "df = pd.read_csv('FullDataset.csv', encoding = 'ISO-8859-1')"
   ]
  },
  {
   "cell_type": "code",
   "execution_count": 12,
   "metadata": {},
   "outputs": [],
   "source": [
    "s3.Bucket('testrini').upload_file(Filename = 'FullDataset.csv', Key = 'FullDataset.csv')"
   ]
  },
  {
   "cell_type": "code",
   "execution_count": 13,
   "metadata": {},
   "outputs": [
    {
     "name": "stdout",
     "output_type": "stream",
     "text": [
      "testrini\n"
     ]
    }
   ],
   "source": [
    "# print out bucket names\n",
    "for bucket in s3.buckets.all():\n",
    "  print(bucket.name)"
   ]
  },
  {
   "cell_type": "code",
   "execution_count": 14,
   "metadata": {},
   "outputs": [
    {
     "name": "stdout",
     "output_type": "stream",
     "text": [
      "s3.ObjectSummary(bucket_name='testrini', key='FullDataset.csv')\n",
      "s3.ObjectSummary(bucket_name='testrini', key='bar.csv')\n",
      "s3.ObjectSummary(bucket_name='testrini', key='foo.csv')\n",
      "s3.ObjectSummary(bucket_name='testrini', key='xgboost-as-a-built-in-algo/test/test.csv')\n",
      "s3.ObjectSummary(bucket_name='testrini', key='xgboost-as-a-built-in-algo/train/train.csv')\n"
     ]
    }
   ],
   "source": [
    "for obj in s3.Bucket('testrini').objects.all():\n",
    "  print(obj)"
   ]
  },
  {
   "cell_type": "code",
   "execution_count": 16,
   "metadata": {},
   "outputs": [],
   "source": [
    "#obj = s3.Bucket('testrini').Object('FullDataset.csv').get()\n",
    "#temp = pd.read_csv(obj['Body'], index_col = 0,encoding='ISO-8859-1')"
   ]
  },
  {
   "cell_type": "code",
   "execution_count": 4,
   "metadata": {
    "colab": {
     "base_uri": "https://localhost:8080/",
     "height": 606
    },
    "id": "ynBJcBFX6jrP",
    "outputId": "12fe7b1f-5b7d-4736-fd65-8d9b1a7c7a5b"
   },
   "outputs": [
    {
     "data": {
      "text/html": [
       "<div>\n",
       "<style scoped>\n",
       "    .dataframe tbody tr th:only-of-type {\n",
       "        vertical-align: middle;\n",
       "    }\n",
       "\n",
       "    .dataframe tbody tr th {\n",
       "        vertical-align: top;\n",
       "    }\n",
       "\n",
       "    .dataframe thead th {\n",
       "        text-align: right;\n",
       "    }\n",
       "</style>\n",
       "<table border=\"1\" class=\"dataframe\">\n",
       "  <thead>\n",
       "    <tr style=\"text-align: right;\">\n",
       "      <th></th>\n",
       "      <th>Unnamed: 0</th>\n",
       "      <th>title</th>\n",
       "      <th>text</th>\n",
       "      <th>source</th>\n",
       "      <th>label</th>\n",
       "      <th>title_text</th>\n",
       "      <th>type</th>\n",
       "      <th>newstitle</th>\n",
       "      <th>publish_date</th>\n",
       "      <th>content</th>\n",
       "    </tr>\n",
       "  </thead>\n",
       "  <tbody>\n",
       "    <tr>\n",
       "      <th>0</th>\n",
       "      <td>0</td>\n",
       "      <td>ÌÕItÌ¥s actually the safest time to fly.ÌÒ</td>\n",
       "      <td>NaN</td>\n",
       "      <td>NaN</td>\n",
       "      <td>0</td>\n",
       "      <td>actually  safest time  fly thousands  flights...</td>\n",
       "      <td>article</td>\n",
       "      <td>\"Photos of deserted, nearly empty airports aro...</td>\n",
       "      <td>2020-03-01T18:39:00Z</td>\n",
       "      <td>thousands of flights around the world have bee...</td>\n",
       "    </tr>\n",
       "    <tr>\n",
       "      <th>1</th>\n",
       "      <td>1</td>\n",
       "      <td>\"Strengthening accountability to end TB\"</td>\n",
       "      <td>NaN</td>\n",
       "      <td>NaN</td>\n",
       "      <td>1</td>\n",
       "      <td>strengthening accountability  end tb  today re...</td>\n",
       "      <td>article</td>\n",
       "      <td>\"WHO offers national assessment checklist for ...</td>\n",
       "      <td>NaN</td>\n",
       "      <td>who today released a checklist to enable membe...</td>\n",
       "    </tr>\n",
       "    <tr>\n",
       "      <th>2</th>\n",
       "      <td>2</td>\n",
       "      <td>Lack of Paid Sick Leave a Coronavirus Threat</td>\n",
       "      <td>NaN</td>\n",
       "      <td>NaN</td>\n",
       "      <td>1</td>\n",
       "      <td>lack  paid sick leave  coronavirus threat edit...</td>\n",
       "      <td>article</td>\n",
       "      <td>\"Lack of Paid Sick Leave a Coronavirus Threat\"</td>\n",
       "      <td>NaN</td>\n",
       "      <td>editor 's note for the latest updates on the 2...</td>\n",
       "    </tr>\n",
       "    <tr>\n",
       "      <th>3</th>\n",
       "      <td>3</td>\n",
       "      <td>States are imposing mandatory leave and statew...</td>\n",
       "      <td>NaN</td>\n",
       "      <td>NaN</td>\n",
       "      <td>0</td>\n",
       "      <td>states  imposing mandatory leave  statewise sc...</td>\n",
       "      <td>post</td>\n",
       "      <td>NaN</td>\n",
       "      <td>NaN</td>\n",
       "      <td>NaN</td>\n",
       "    </tr>\n",
       "    <tr>\n",
       "      <th>4</th>\n",
       "      <td>4</td>\n",
       "      <td>Guidance for Administrators in Parks and Recre...</td>\n",
       "      <td>NaN</td>\n",
       "      <td>NaN</td>\n",
       "      <td>1</td>\n",
       "      <td>guidance  administrators  parks  recreational ...</td>\n",
       "      <td>article</td>\n",
       "      <td>\"Information for Laboratories about Coronaviru...</td>\n",
       "      <td>2/11/20</td>\n",
       "      <td>these sequences are intended to be used for th...</td>\n",
       "    </tr>\n",
       "    <tr>\n",
       "      <th>...</th>\n",
       "      <td>...</td>\n",
       "      <td>...</td>\n",
       "      <td>...</td>\n",
       "      <td>...</td>\n",
       "      <td>...</td>\n",
       "      <td>...</td>\n",
       "      <td>...</td>\n",
       "      <td>...</td>\n",
       "      <td>...</td>\n",
       "      <td>...</td>\n",
       "    </tr>\n",
       "    <tr>\n",
       "      <th>5078</th>\n",
       "      <td>5078</td>\n",
       "      <td>ÛÏThe mainstream media pretended there was a ...</td>\n",
       "      <td>NaN</td>\n",
       "      <td>NaN</td>\n",
       "      <td>0</td>\n",
       "      <td>mainstream media pretended    deadly surge  c...</td>\n",
       "      <td>post</td>\n",
       "      <td>\"What the MSM Was Afraid to Tell You\"</td>\n",
       "      <td>NaN</td>\n",
       "      <td>this week while the mainstream mainstream medi...</td>\n",
       "    </tr>\n",
       "    <tr>\n",
       "      <th>5079</th>\n",
       "      <td>5079</td>\n",
       "      <td>Repercussions From Antibiotics Overuse During ...</td>\n",
       "      <td>NaN</td>\n",
       "      <td>NaN</td>\n",
       "      <td>1</td>\n",
       "      <td>repercussions  antibiotics overuse  pandemic  ...</td>\n",
       "      <td>article</td>\n",
       "      <td>\"Access denied | www.webmd.com used Cloudflare...</td>\n",
       "      <td>NaN</td>\n",
       "      <td>this website is using a security service to pr...</td>\n",
       "    </tr>\n",
       "    <tr>\n",
       "      <th>5080</th>\n",
       "      <td>5080</td>\n",
       "      <td>Study Confirms Cats Can Become Infected With a...</td>\n",
       "      <td>NaN</td>\n",
       "      <td>NaN</td>\n",
       "      <td>1</td>\n",
       "      <td>study confirms cats  become infected   may tra...</td>\n",
       "      <td>article</td>\n",
       "      <td>\"\"</td>\n",
       "      <td>NaN</td>\n",
       "      <td>NaN</td>\n",
       "    </tr>\n",
       "    <tr>\n",
       "      <th>5081</th>\n",
       "      <td>5081</td>\n",
       "      <td>Texas Gov. Pauses Economic Reopening</td>\n",
       "      <td>NaN</td>\n",
       "      <td>NaN</td>\n",
       "      <td>1</td>\n",
       "      <td>texas gov pauses economic reopening  website  ...</td>\n",
       "      <td>article</td>\n",
       "      <td>\"Access denied | www.webmd.com used Cloudflare...</td>\n",
       "      <td>NaN</td>\n",
       "      <td>this website is using a security service to pr...</td>\n",
       "    </tr>\n",
       "    <tr>\n",
       "      <th>5082</th>\n",
       "      <td>5082</td>\n",
       "      <td>Colleges  Universities and Higher Learning</td>\n",
       "      <td>NaN</td>\n",
       "      <td>NaN</td>\n",
       "      <td>1</td>\n",
       "      <td>colleges  universities  higher learning cdc co...</td>\n",
       "      <td>article</td>\n",
       "      <td>\"Communities, Schools, Workplaces, &amp; Events\"</td>\n",
       "      <td>7/24/20</td>\n",
       "      <td>cdc community mitigation framework actions tha...</td>\n",
       "    </tr>\n",
       "  </tbody>\n",
       "</table>\n",
       "<p>5083 rows × 10 columns</p>\n",
       "</div>"
      ],
      "text/plain": [
       "      Unnamed: 0                                              title text  \\\n",
       "0              0         ÌÕItÌ¥s actually the safest time to fly.ÌÒ  NaN   \n",
       "1              1           \"Strengthening accountability to end TB\"  NaN   \n",
       "2              2       Lack of Paid Sick Leave a Coronavirus Threat  NaN   \n",
       "3              3  States are imposing mandatory leave and statew...  NaN   \n",
       "4              4  Guidance for Administrators in Parks and Recre...  NaN   \n",
       "...          ...                                                ...  ...   \n",
       "5078        5078  ÛÏThe mainstream media pretended there was a ...  NaN   \n",
       "5079        5079  Repercussions From Antibiotics Overuse During ...  NaN   \n",
       "5080        5080  Study Confirms Cats Can Become Infected With a...  NaN   \n",
       "5081        5081               Texas Gov. Pauses Economic Reopening  NaN   \n",
       "5082        5082         Colleges  Universities and Higher Learning  NaN   \n",
       "\n",
       "     source  label                                         title_text  \\\n",
       "0       NaN      0   actually  safest time  fly thousands  flights...   \n",
       "1       NaN      1  strengthening accountability  end tb  today re...   \n",
       "2       NaN      1  lack  paid sick leave  coronavirus threat edit...   \n",
       "3       NaN      0  states  imposing mandatory leave  statewise sc...   \n",
       "4       NaN      1  guidance  administrators  parks  recreational ...   \n",
       "...     ...    ...                                                ...   \n",
       "5078    NaN      0   mainstream media pretended    deadly surge  c...   \n",
       "5079    NaN      1  repercussions  antibiotics overuse  pandemic  ...   \n",
       "5080    NaN      1  study confirms cats  become infected   may tra...   \n",
       "5081    NaN      1  texas gov pauses economic reopening  website  ...   \n",
       "5082    NaN      1  colleges  universities  higher learning cdc co...   \n",
       "\n",
       "         type                                          newstitle  \\\n",
       "0     article  \"Photos of deserted, nearly empty airports aro...   \n",
       "1     article  \"WHO offers national assessment checklist for ...   \n",
       "2     article     \"Lack of Paid Sick Leave a Coronavirus Threat\"   \n",
       "3        post                                                NaN   \n",
       "4     article  \"Information for Laboratories about Coronaviru...   \n",
       "...       ...                                                ...   \n",
       "5078     post              \"What the MSM Was Afraid to Tell You\"   \n",
       "5079  article  \"Access denied | www.webmd.com used Cloudflare...   \n",
       "5080  article                                                 \"\"   \n",
       "5081  article  \"Access denied | www.webmd.com used Cloudflare...   \n",
       "5082  article       \"Communities, Schools, Workplaces, & Events\"   \n",
       "\n",
       "              publish_date                                            content  \n",
       "0     2020-03-01T18:39:00Z  thousands of flights around the world have bee...  \n",
       "1                      NaN  who today released a checklist to enable membe...  \n",
       "2                      NaN  editor 's note for the latest updates on the 2...  \n",
       "3                      NaN                                                NaN  \n",
       "4                  2/11/20  these sequences are intended to be used for th...  \n",
       "...                    ...                                                ...  \n",
       "5078                   NaN  this week while the mainstream mainstream medi...  \n",
       "5079                   NaN  this website is using a security service to pr...  \n",
       "5080                   NaN                                                NaN  \n",
       "5081                   NaN  this website is using a security service to pr...  \n",
       "5082               7/24/20  cdc community mitigation framework actions tha...  \n",
       "\n",
       "[5083 rows x 10 columns]"
      ]
     },
     "execution_count": 4,
     "metadata": {},
     "output_type": "execute_result"
    }
   ],
   "source": [
    "df"
   ]
  },
  {
   "cell_type": "code",
   "execution_count": null,
   "metadata": {
    "colab": {
     "base_uri": "https://localhost:8080/"
    },
    "id": "4Hboz9z-xYBC",
    "outputId": "024bf4af-627f-48fb-c8cf-cacf66121447"
   },
   "outputs": [],
   "source": []
  },
  {
   "cell_type": "code",
   "execution_count": 5,
   "metadata": {
    "colab": {
     "base_uri": "https://localhost:8080/"
    },
    "id": "fOeJGwCGkgS5",
    "outputId": "7311a789-54f3-4862-96fb-8751fb334163"
   },
   "outputs": [
    {
     "name": "stdout",
     "output_type": "stream",
     "text": [
      "(5083, 10)\n",
      "1    3639\n",
      "0    1444\n",
      "Name: label, dtype: int64\n"
     ]
    }
   ],
   "source": [
    "print(df.shape)\n",
    "print(df['label'].value_counts())"
   ]
  },
  {
   "cell_type": "code",
   "execution_count": 6,
   "metadata": {
    "colab": {
     "base_uri": "https://localhost:8080/",
     "height": 37
    },
    "id": "aCqEaIQlGYcT",
    "outputId": "87f4536e-ff33-4e4f-d920-b0aa85dd978c"
   },
   "outputs": [
    {
     "data": {
      "text/plain": [
       "'the coronavirus a man made virus was created in china according to httpswebsitecomcovid'"
      ]
     },
     "execution_count": 6,
     "metadata": {},
     "output_type": "execute_result"
    }
   ],
   "source": [
    "def preprocessor(text):\n",
    "  text = re.sub('<[^>]*>', '', text)\n",
    "  text = re.sub(r'[^\\w\\s]', '', text)\n",
    "  text = re.sub(r'[^\\w]', ' ', text)\n",
    "  text = re.sub(r'[\\s+]', ' ', text)\n",
    "  text = text.lower()\n",
    "  return text\n",
    "string = \"The coronavirus, a man made virus, was created in China according to https://website.com/covid\"\n",
    "preprocessor(string)\n"
   ]
  },
  {
   "cell_type": "code",
   "execution_count": 7,
   "metadata": {
    "id": "fk12vWzLGYt6"
   },
   "outputs": [],
   "source": [
    "df['title_text'] = df['title_text'].apply(preprocessor)"
   ]
  },
  {
   "cell_type": "code",
   "execution_count": 8,
   "metadata": {
    "colab": {
     "base_uri": "https://localhost:8080/"
    },
    "id": "VF_Zly1QL75y",
    "outputId": "17272fb8-beac-46bc-9972-2191aec978a1"
   },
   "outputs": [
    {
     "name": "stdout",
     "output_type": "stream",
     "text": [
      "avg: 921.5888254967539\n",
      "max char len: 24414\n",
      "min char len: 9\n"
     ]
    }
   ],
   "source": [
    "a = 0\n",
    "count = 0\n",
    "largest = []\n",
    "for i in range(len(df['title_text'])):\n",
    "  a+= len(list(df['title_text'][i]))\n",
    "  largest.append(len(list(df['title_text'][i])))\n",
    "  if len(list(df['title_text'][i])) == 24414:\n",
    "    string = (df['title_text'][i])\n",
    "  count += 1\n",
    "print('avg:',a/count)\n",
    "print('max char len:', max(largest))\n",
    "print('min char len:',min(largest))"
   ]
  },
  {
   "cell_type": "code",
   "execution_count": 9,
   "metadata": {
    "colab": {
     "base_uri": "https://localhost:8080/"
    },
    "id": "IYKjT-GS78jz",
    "outputId": "5eb00e20-7432-42cf-aa6d-9413cbba27a6"
   },
   "outputs": [
    {
     "name": "stdout",
     "output_type": "stream",
     "text": [
      "pandemic   politics  survival  horizons   new type  dictatorship  breakdown   global liberal world order   foundations   happening    global breakdown   world order    matter   whether  nature   coronavirus  artificial      even  principal importance whether    artificial   deliberately released   world government    epidemic  begun     fact   main thing   trace   world government  reacted  itto clarify  world government   totality  global political  economic elites   intellectuals  media mediacrats  serve    world government necessarily exists    global scale   strictlydefined fundamental norms  determine  basic parameters  politics economics  ideologyin  economy   recognized norm  capitalism  market economy   disputed   north korea       important  china  presents   version  national state capitalism   management   communist partyin politics   recognized norm  parliamentary liberal democracy based  civil society   subject  source  legality  legitimacy besides north korea almost everyone   agreement   although china interprets civil society   special socialist  partly nationalcultural optic  carries  mediacratic screening  means   direct parliamentary elections   islamic states   example iran   gulf monarchies    number  special features  ideology everyone agrees   arrangement   individual   number  inalienable rights  life freedom  conscience freedom  movement etc   states  societies  obliged  guaranteein essence    three basic principles   global world  emerged   collapse   ussr   victory   capitalist west   cold war  main players  politics economics  ideology  concentrated  western countries  set  model  others    core   world government inside  government china  beginning  play  increasingly important role towards   elite  russia    states  rushing whether  coronavirus  artificial    important    matter whether  coronavirus  produced artificially  deliberately used   world government   sensebut    world   umbrella    world government   three   axiomatic foundations   collapsing    eyes   reminiscent   end   socialist camp  bipolar world   ussr   one  two worlds disappeared  one remained  extended  rules   others including  yesterdays opponents gorbachev  wanted  get   world government without dissolving  ussr     accepted    prowestern leaders   russian federation  surrendered   west accepted  still     today   world government  collapsing could   voluntarily opted  liquidation hardly   reacted   coronavirus    something inevitable     choicethere  freedom  whether    recognize  coronavirus  existing     fact   recognition   pandemic  world government signed   death sentence     consciously     less consciously  gorbachev  perestroika   case   ussr one pole disappeared    remained today  end  planetary liberal democracy means  end  everything  system    paradigm  except  north korea   still  pure anachronism albeit   interesting one  chinas compromised versionwho   defeated  coronavirus  howthe coronavirus  already struck  blow   neither politics economics  ideology  recover  pandemic would     dealt    existing institutions  normal mode without changing  basic rules neither  politics meaning  quarantine  forced isolation let alone  state  emergencynor   economy  remote work  stopping  production exchanges  financial industrial institutions  trading platforms  vacation etcnor  ideology  restrictions albeit temporary  essential civil rights freedom  movement  cancellation  postponement  elections referenda etcbut     already happened   global scale including  western countries ie   territory   world government    foundations   global system   suspendedthis    see  ongoing situation   world government  take   step     forced         simply cannot   higher instance  authority  modern materialistic atheistic  rationalistic humanity liberalism   final result  new time let us postpone  question  later   look   larger historical trajectory   modern liberaldemocratic global system    government   liberal political elites parliamentarism major economic players oligarchs  transnational monopolies  ideologists   open society   journalists  serve  including moderators  sentiments  social networks   internet  source   system   sought   end   renaissance    new time early modernity  emerged therefrom  saw  fundamental break   middle ages  regard   subject  power  consequently    nature   middle ages    society  tradition overall  legitimacy  legality   political model  society  based   transcendent  superhuman divine  factor  supreme subject  power  law  god  revelations   laws  settings established    well   institutions   considered    representatives  earth   christian world    church   monarchical state  new time  modernity abolished  vertical  set   goal  building  society  earthly foundations thus  main subject  source  legitimacy  legality became man   celestial government   supraworld government  gave way   earthly government politics economy  ideology changed accordingly democracycapitalism  civil society emergedfor several centuries  principles fought   old medieval order   last empires   russian ottoman austrian  german  fell   20th century however liberal democracy still   cope   heretical   liberal point  view versions  modernity  communism  fascism     ways interpreted civil society   human     former  class optics   latter  national  racial terms  1945  communists  liberals jointly ended fascism   1991  communists fell  liberals    ones left  henceforth  world government turned   plan  nearly  reality   countries  societies  recognized  standards  democracy  market  human rights    francis fukuyama meant   book  end  history   last man  history   new time began   goal  set  replace  celestial subject   earthly one   ended   replacement  accomplished   global scalethe end   liberal world   parallels   end   ussr today instead   end  history   instead   total triumph  liberal democracy world capitalism   ideology   open society rights   human   individual   collapsed  completely new conditions overnight    unexpected   end   ussr even  1991 many people could  believe   soviet system  disappeared   cannot even realize    course  end  globalism  sensed   critical thinkers   spoken   conservatives   sharp rise  china  represents  special model  globalism putins refusal  cede power   manipulable  controllable   west thought medvedev  2012  perhaps  importantly brexit   rise  populism could   considered clear signs  despite  proximity   final point globalism     unable  effectively achieve  end  history   beginning  paradoxically move away     philosophical level  postmodernists began  reflect   loudly proclaiming  something  wrong  modernitybut history    way left  must either move forward along  inertia      past  centuries since new time   enlightenment  collapse everyone believed  somehow everything would resolve      thing  mattered   effectively confront    categorized   enemies  open society ie putin iran islamic fundamentalism   new rise  nationalist movements rapidly responding   crisis  mass migration  general  one thought   alternative even consciously ruling         moment  serious crisis  global liberal system  failed  collapsed almost noone  understood  yet    already happened    happened irrevocably coronavirus    fact  especially   way      responded    world government  become  end   modern worldthe end   ego   owndoes  mean  humanity  die   still unknown   cannot  ruled  one   guess whether   perish      already  said  certainty    global world order based  capitalism liberal democracy   principles   sovereign individual civil society  open society  already perished   gone   collapsed although desperate efforts  still  undertaken  save    time  come     deployed   long   last   crucial   cannot  ruled     disappear altogether like smoke  like  soviet system dissolved  thin airthat    second ago   fleeting    never    much  important  look    coming  replace  old world order   important thing  understand      merely  technical failure   system  global governance   happened  rather  resulting final element   entire historical process  modernity  new time   course   power  transferred   celestial subject   earthly one   subject     ideological  political battles   last centuries including  world hot  cold wars  moved towards  certain crystallization   parliamentary democracy  global capitalist market   individual endowed  rights  whole system  modern global capitalism  built   premise   ego    max stirner  political rights   ego  individual  complete isolation  nation race religion sex etc  fixed  entrenched   global systems  political democracy economic rights  embodied   norms  private property  market mechanisms thus  source  political power reached  imminent limit  liberalism  globalism  last hints  verticality  transcendence    preserved still   first stages  modernity  particular  structures   state  eliminated hence  globalist aspiration  abolish  sovereignty   state  transfer  powers   supranational level thus legalizing  world government  de facto already exists   words  political economic  ideological history  new time moved towards  quite definite end    purely human immanent individual subject would  finally formed  laid   basis  political legitimization little  left  chance  complete abolition  states  took place   level   european union    repeated   global scalethe cancelled finale  liberalism  final moment   everything  headed today   merely postponed indefinitely   altogether cancelled  political history could  reach  point without  coronavirus   whole process collapsed   face   epidemic  order  effectively counteract  epidemic  authorities  nearly  countries including    west  introduced compulsory quarantine  strict measures   violation   outright declared emergency situations  economic mechanisms   global market  collapsed due  closure  borders   stock exchanges  financial institutions  open society  unhindered migration  come  direct contradiction  basic sanitary standards  fact  dictatorial regime  rapidly  established    world   power   transferred   completely new entity neither  ego        worlds giant superstructures  guaranteed  legal  legitimate rights  statuses   longer considered  source  political power  giorgio agamben  called  naked life ie  absolutely special physical survival imperative   nothing     logic  liberal capitalism  come   foreground neither equality rights law private property collective decisionmaking  system  mutual obligations    fundamental principle  liberal democracy  real power   mechanisms  contribute  survival  stopping infection  providing   simplest purely physiological needs  important nowbut  means   subject  power  radically changing    longer  free society   market   humanist presumptions   sovereign individual  guarantees  personal freedom  private life       sacrificed   matter  hand  physical survival political rights  abolished economic obligations  abolished total surveillance  strict disciplinary control become   overriding social normif  world government  gone   state  emergency proved unable     even dare  bypass    simply forced  accept    means   paradigm   yesterday seemed   unshakeable   abandoned    case   either  world government    every society saves       fundamental paradigm abruptly changes  turns  something else    first    second cases  former order  collapsed  something new   built    eyessuch radical conclusions    related   scale   pandemic    even  great yet much  important   perception   epidemic   power elites    quickly  easily abandoned  seemingly inviolable foundations     fundamental thing  measures aimed  combating  coronavirus  already undermined  foundations  liberal democracy  capitalism rapidly abolishing  subject  power      ego      longer  basis  legality  legitimacy   conditions   state  emergency power   transferred  another authority something new  becoming  bearer  sovereigntyso   itthe coronavirus   ruling subject  secular gods   plague   one hand  could  said   coronavirus   virus   royal name   reason  demonstrating  status unique     subject  better understand    recall  ancient plague gods   considered formidable deities   religious beliefs   peoples   middle east  peoples  mesopotamia  erra nergal  others    monotheistic traditions  particular  judaism plagues  sent   supreme deity yahweh  punish  jews  idolatry   middle ages epidemics  plagues  considered signs  divine punishment traditional society  justifiably give  status  subjectivity  largescale phenomena  link    divine element however   new time  modernity man held     complete master  life hence  development  modern medicine drugs vaccines etc therefore      complete inability  governments  counteract  coronavirus today  casting mankind beyond  edge  new time   god  gods    modern virus plague could  ascribed  left   longer exist  modern world  convinced   virus must  earthly material  immanent origin   kind  materiality  stronger  man hereby arise  many conspiracy theories linking  origin   virus  malefactors aspiring  establish  control  mankind   philosophers  speculative realism   decades   thinking   need  replace humanity   system  objects  whether artificial intelligence  cyborgs   virus  might  well  granted  status  sovereign actor  kind  hyperobject  la morton capable  subjugating  masses  beings      mold  rhizome      words  collapse   liberal model brings   forefront  hypothesis   posthuman posthumanist actorcoronavirus whose latin name literally means  crowned poison  thus  least theoretically  contender   center   new world system   main concern  mankind       counteract  virus fight   protect   etc   whole system  values rules  guarantees   rebuilt according  absolutely new principles  priorities speculative realists go even    ready  recognize   hyperobject  presence  infernal entities   ancient gods  chaos emerging    bottom  existence     necessary  go  far insofar    simply assume  political economic  ideological rationality  henceforth  built around  counteraction  contagious viruses   live   different   example   hygienocentric  world organized   completely different way   modern world  ego      structures  guarantee  predictability stability  protection  elevate    status   foundations  legality  legitimacy  fall   background   coronavirus   analogue  establish  different hierarchy  different political  economic ontology  different ideologythe state vs coronavirus   stateif  look    fight  coronavirus  unfolding today   notice  abruptly sharp increase   role   state    course  globalization  considerably relegated   backburner     level   state  decisions  quarantine self isolation travel bans restrictions  freedoms  economic measures   made  fact everywhere   world  whether openly   default   state  emergency   declared according   classics  political thought   particular carl schmitt  means  establishment   regime  dictatorship  sovereign according  schmitt    makes  decision   emergency situation ernstfall  today    state however     forgotten  todays state    altogether recent last moment  based   principles  liberal democracy capitalism   ideology  human rights   words  state    sense deciding   liquidation    philosophical  ideological basis even      formalized temporary measures  roman empire still began   temporary dictatorship  caesar  gradually became permanent thus  state  rapidly mutating    virus   mutating   state  following  coronavirus   constantly evolving struggle   taking  situation ever    point  global liberal democracy   extant borders   yesterday seemed   erased  halferased    gaining fundamental meaning        going  cross   also    simply  managed  time  return   country    time  larger countries  fragmentation   carried   individual regions  states  emergency  leading   establishment    regional dictatorships   turn   strengthened  communication   center becomes  difficult  fragmentation  continue   way   small towns  even individual households  forced closure  open  new horizons  volumes  domestic violencethe state  taking upon   mission  fighting  coronavirus  certain conditions   waging  fight  already different circumstances   course   mission  state institutions related  law legality  economy   transformed thus   introduction  quarantine completely overturns  logic   market according     balance  supply  demand   agreements concluded  employer  employee  regulate  relations   bans  working  hygienic reasons  irrevocably collapsing  entire construction  capitalism  suspension  freedom  movement assembly  democratic procedures  blocking  institutions  political democracy  paralyzing individual freedomspostliberal dictatorship   course   epidemic  new state  emerging   beginning  function  new rules    likely    process   state  emergency     shift  power  formal rulers  technical  technological functionaries eg  military epidemiologists  institutions especially created   extreme circumstances  physical threat   virus poses  leaders  forcing    placed  special conditions    always compatible  full control  situations  legal norms  suspended new algorithms  behavior  new practices  beginning   deployed thus  born  dictatorial state  unlike  liberaldemocratic state  completely different goals foundations principles  axioms   case  world government  dissolved   supranational strategy loses  meaning power  rapidly moving   ever lower level     society    citizens    militarytechnological  medicalsanitary level  radically new rationality  gaining force    rationale  democracy freedom  market  individualism    pure survival   responsibility  assumed   subject combining direct power   possession  technical technological  medical logistics moreover   network society   based   system  total surveillance excluding  kind  privacythus   one end    virus   subject  transformation     end   militarymedical surveillance  punitive dictatorship fundamentally differing   parameters   state   knew  yesterday      guaranteed    state   fight   secular plague gods  precisely coincide   borders  existing national entities since     ideology  politics beyond  straightforward logic  survival centralization   lose  meaning   legitimacyfrom civil society  naked life    let us recall  naked life  giorgio agamben    similar vein  based  schmitts ideas   state  emergency analyzed  situation  nazi concentration camps   dehumanization  people attained  extreme    naked life revealed   naked life   human life    life   beyond  limits  selfconsciousness personality individuality rights    hence  agamben    radical  others  opposed  measures taken   coronavirus preferring even death   introduction   state  emergency  clearly saw  even  small step   direction  change  entire structure   world order entering  stage  dictatorship  easy  exiting   sometimes impossiblethe naked life   victim   virus    people families citizens  private owners    neither one  many     fact  infection   turn anyone  including oneself      therefore   enemy  naked life    fighting   naked life  grants dictatorship  new status   subject  society    mercy  dictatorship   turned  naked life organized   dictatorship  accordance    peculiar rationality   fear   coronavirus people  ready  go     steps     taken upon  responsibility   state  emergencythus  fundamental split   healthy   sick considered  michel foucault   book discipline  punish  birth   prison becomes even  impassable   line    oppositions   classical ideologies  modernity eg   bourgeoisie  proletariat  aryans  jews  liberals  enemies   open society etc   see  dividing line set   poles   naked life  medical technologists     hands   instruments  violence surveillance  authority  difference   already sick    yet sick   first justified  new dictatorship   erased   dictatorship  virologists   built new legitimacy   basis   distinction  create  completely new model  new dictatorship  neither fascism  communism  situation  seem  many   reminiscent  fascism  communism   parallels  imaginary  fascism  communism represented types  civil society albeit totalitarian ones  pronounced ideologies  guaranteed civil rights        significant  de facto overwhelming majority   citizens liberalism  reducing  identities    level   individual paved  way  created  preconditions   special type  postliberal dictatorship  unlike communism  fascism    ideology   insofar      reason  persuade mobilize  seduce  element   naked life  naked life  already consciously ready  surrender  dictatorship regardless    promises  insists   structures    dictatorship   built   basis   fact   opposes  virus    basis  ideas  preferences  militarymedical hygienic dictatorship   characterized   postliberal logic     operation   rational treatment   naked life  bearers     rights     identity  order   built along  infected vs healthy watershed   dual code    powerful    obvious   need   justification  argumentationartificial intelligence   enemies   following consideration comes  mind   carriers    postliberal antivirus dictatorship  see virtually  properly human traits  humanity would  hinder   effective operation   naked life  would thus represent  restless tremblingsurvivalatallcostsseeking chaos consequently artificial intelligence abstract mechanical calculation would cope best   task  militarymedical dictatorship  see  distinct cybernetic dimension something machinelike  mechanical   naked life  chaos   must   cold mathematical order    pole       legitimization     consent  society  loses everything   survival instinct    criterion   ability  make balanced logical decisions without  affected  superfluous emotions  passions therefore even   militarymedical hygienic dictatorship  established  people sooner  later  main bearers   machinesthere    return several conclusions   drawn    preliminary analysis   near future   future   already begunit  impossible  go back   world order  existed  recently   seemed  familiar  natural   one thought   ephemerality liberalism either   reach  natural end   establishment   world government  nihilistic collapse   original goal merely covered  increasingly less convincing  increasingly perverse humanist decor proponents  philosophical accelerationism speak  black enlightenment emphasizing  dark nihilistic aspect  liberalism  representing merely  accelerated movement  man toward  abyss  posthumanism    case instead  world government  total democracy   entering  era  new fragmentation  closed societies  radical dictatorship perhaps exceeding nazi concentration camps   soviet gulagthe end  globalization   mean however  simple transition   westphalian system  realism   system  closed trade states fichte  would require  well defined ideology  existed  early modernity    completely eradicated  late modernity  especially  postmodernity  demonization  anything remotely resembling nationalism  fascism  led   total rejection  national identities    severity   biological threat   crude physiological nature makes national myths superfluous  militarymedical dictatorship   need additional methods  motivate  masses  moreover nationalism  enhances  dignity selfconsciousness  civil feeling  society  contradict  rules   naked life   society  come    two criteria  healthy  sick   forms  identity including national ones   meaning approximately    true  communism   also  motivating ideology  mobilized  consciousness  citizens  build  better society   ideologies  archaic meaningless redundant  counterproductive   fight  coronavirus therefore  would  wrong  see  new fascism  new communism   impending postliberal paradigm    something else  cannot  ruled    new stage  affect  greatly  life  humankind    remain     passed    trials  tribulations mankind   ready  accept  form  power  ideology   order   weaken  terror   artificial intelligencemilitarymedical dictatorship     cycle  cannot rule   return   project  world government    already    completely different basis  society   irreversibly changed   period  quarantine    longer   choice  civil society   cry  naked life   recognize  authority   offer deliverance   horror   occurred  would   right time   christians call  antichrist  appearexaggeration   liquidation  leaders    analytical forecast  much   dramatized exaggeration  think   quite realistic although  course nobody knows  time    situation everything might  postponed   time  epidemic could end abruptly   vaccine   found     al\n"
     ]
    }
   ],
   "source": [
    "print(string)"
   ]
  },
  {
   "cell_type": "markdown",
   "metadata": {
    "id": "SxL6Ce3mCs43"
   },
   "source": []
  },
  {
   "cell_type": "code",
   "execution_count": 10,
   "metadata": {
    "colab": {
     "base_uri": "https://localhost:8080/"
    },
    "id": "pDxjllKGKRw1",
    "outputId": "d39825be-e953-4cfd-d7ad-d89e9e89bac2"
   },
   "outputs": [
    {
     "name": "stderr",
     "output_type": "stream",
     "text": [
      "[nltk_data] Downloading package stopwords to\n",
      "[nltk_data]     /home/ec2-user/nltk_data...\n",
      "[nltk_data]   Package stopwords is already up-to-date!\n"
     ]
    },
    {
     "data": {
      "text/plain": [
       "True"
      ]
     },
     "execution_count": 10,
     "metadata": {},
     "output_type": "execute_result"
    }
   ],
   "source": [
    "import nltk\n",
    "nltk.download('stopwords')"
   ]
  },
  {
   "cell_type": "code",
   "execution_count": 11,
   "metadata": {
    "colab": {
     "base_uri": "https://localhost:8080/",
     "height": 37
    },
    "id": "FVUn4VbSJvTQ",
    "outputId": "fe62031c-7cde-468a-e8e5-d7e984c9346a"
   },
   "outputs": [
    {
     "data": {
      "text/plain": [
       "' coronavirus  man made virus  created  china according  httpswebsitecomcovid'"
      ]
     },
     "execution_count": 11,
     "metadata": {},
     "output_type": "execute_result"
    }
   ],
   "source": [
    "stop_words=set(stopwords.words('english'))\n",
    "clean_stopword = re.compile(r\"\\b(\" + \"|\".join(stop_words)+\")\\\\W\", re.I)\n",
    "def remove_stopwords(sentence):\n",
    "  return clean_stopword.sub(\" \", sentence)\n",
    "df['title_text'] = df['title_text'].apply(remove_stopwords)\n",
    "string = \"the coronavirus a man made virus was created in china according to httpswebsitecomcovid\"\n",
    "remove_stopwords(string)"
   ]
  },
  {
   "cell_type": "code",
   "execution_count": 12,
   "metadata": {
    "colab": {
     "base_uri": "https://localhost:8080/",
     "height": 164
    },
    "id": "HLlC50C67swX",
    "outputId": "310c0d77-c088-4fbd-c57d-28b4703d0199"
   },
   "outputs": [
    {
     "data": {
      "text/plain": [
       "'the coronavirus a man made virus was created in china according to httpswebsitecomcovid'"
      ]
     },
     "execution_count": 12,
     "metadata": {},
     "output_type": "execute_result"
    }
   ],
   "source": [
    "string"
   ]
  },
  {
   "cell_type": "code",
   "execution_count": 13,
   "metadata": {
    "colab": {
     "base_uri": "https://localhost:8080/"
    },
    "id": "n5LairkeMANG",
    "outputId": "6a6a3cf6-d400-41c8-d81c-bdd12cea0a8d"
   },
   "outputs": [
    {
     "data": {
      "text/plain": [
       "0        actually  safest time  fly thousands  flights...\n",
       "1       strengthening accountability  end tb  today re...\n",
       "2       lack  paid sick leave  coronavirus threat edit...\n",
       "3       states  imposing mandatory leave  statewise sc...\n",
       "4       guidance  administrators  parks  recreational ...\n",
       "                              ...                        \n",
       "5078     mainstream media pretended    deadly surge  c...\n",
       "5079    repercussions  antibiotics overuse  pandemic  ...\n",
       "5080    study confirms cats  become infected   may tra...\n",
       "5081    texas gov pauses economic reopening  website  ...\n",
       "5082    colleges  universities  higher learning cdc co...\n",
       "Name: title_text, Length: 5083, dtype: object"
      ]
     },
     "execution_count": 13,
     "metadata": {},
     "output_type": "execute_result"
    }
   ],
   "source": [
    "df['title_text']"
   ]
  },
  {
   "cell_type": "code",
   "execution_count": 14,
   "metadata": {
    "colab": {
     "base_uri": "https://localhost:8080/"
    },
    "id": "TGdVZ8aPGa3p",
    "outputId": "52aba492-5774-448c-dcc4-2b9d9b0cd599"
   },
   "outputs": [
    {
     "data": {
      "text/plain": [
       "['coronaviru', 'man', 'made', 'viru', 'creat', 'china', 'accord']"
      ]
     },
     "execution_count": 14,
     "metadata": {},
     "output_type": "execute_result"
    }
   ],
   "source": [
    "stemmer = PorterStemmer()\n",
    "# def stemming(sentence):\n",
    "#     stemSentence = \"\"\n",
    "#     for word in sentence.split():\n",
    "#         stem = stemmer.stem(word)\n",
    "#         stemSentence += stem\n",
    "#         stemSentence += \" \"\n",
    "#     stemSentence = stemSentence.strip()\n",
    "#     return stemSentence\n",
    "def stemming(sentence):\n",
    "  stemSentence = []\n",
    "  for word in sentence.split():\n",
    "    stem = stemmer.stem(word)\n",
    "    stemSentence.append(stem)\n",
    "  return stemSentence\n",
    "stemming('coronavirus  man made virus  created  china according')\n",
    "  \n"
   ]
  },
  {
   "cell_type": "code",
   "execution_count": 15,
   "metadata": {
    "id": "fbYWUbgcGp3u"
   },
   "outputs": [],
   "source": [
    "df['title_text'] = df['title_text'].apply(stemming)"
   ]
  },
  {
   "cell_type": "code",
   "execution_count": 16,
   "metadata": {
    "colab": {
     "base_uri": "https://localhost:8080/"
    },
    "id": "n2AYKsGjCBA2",
    "outputId": "b5bd000c-b394-4619-d851-6dec52dc5ba3"
   },
   "outputs": [
    {
     "data": {
      "text/plain": [
       "0       [actual, safest, time, fli, thousand, flight, ...\n",
       "1       [strengthen, account, end, tb, today, releas, ...\n",
       "2       [lack, paid, sick, leav, coronaviru, threat, e...\n",
       "3       [state, impos, mandatori, leav, statewis, scho...\n",
       "4       [guidanc, administr, park, recreat, facil, seq...\n",
       "                              ...                        \n",
       "5078    [mainstream, media, pretend, deadli, surg, cov...\n",
       "5079    [repercuss, antibiot, overus, pandem, websit, ...\n",
       "5080    [studi, confirm, cat, becom, infect, may, tran...\n",
       "5081    [texa, gov, paus, econom, reopen, websit, use,...\n",
       "5082    [colleg, univers, higher, learn, cdc, commun, ...\n",
       "Name: title_text, Length: 5083, dtype: object"
      ]
     },
     "execution_count": 16,
     "metadata": {},
     "output_type": "execute_result"
    }
   ],
   "source": [
    "df['title_text']"
   ]
  },
  {
   "cell_type": "code",
   "execution_count": 31,
   "metadata": {
    "colab": {
     "base_uri": "https://localhost:8080/"
    },
    "id": "uCtn2aSBUwdg",
    "outputId": "c021c457-a433-4a3f-a06b-fc6c8d449b42"
   },
   "outputs": [
    {
     "data": {
      "text/plain": [
       "5083"
      ]
     },
     "execution_count": 31,
     "metadata": {},
     "output_type": "execute_result"
    }
   ],
   "source": [
    "len(df['title_text'])"
   ]
  },
  {
   "cell_type": "code",
   "execution_count": 21,
   "metadata": {
    "id": "F_WE_yJWKsni"
   },
   "outputs": [
    {
     "name": "stdout",
     "output_type": "stream",
     "text": [
      "Requirement already satisfied: gensim in /home/ec2-user/anaconda3/envs/python3/lib/python3.6/site-packages (3.8.3)\n",
      "Requirement already satisfied: numpy>=1.11.3 in /home/ec2-user/anaconda3/envs/python3/lib/python3.6/site-packages (from gensim) (1.19.5)\n",
      "Requirement already satisfied: scipy>=0.18.1 in /home/ec2-user/anaconda3/envs/python3/lib/python3.6/site-packages (from gensim) (1.4.1)\n",
      "Requirement already satisfied: smart-open>=1.8.1 in /home/ec2-user/anaconda3/envs/python3/lib/python3.6/site-packages (from gensim) (4.1.2)\n",
      "Requirement already satisfied: six>=1.5.0 in /home/ec2-user/anaconda3/envs/python3/lib/python3.6/site-packages (from gensim) (1.15.0)\n"
     ]
    }
   ],
   "source": [
    "!pip3 install -U gensim\n",
    "import gensim\n",
    "from gensim.models import KeyedVectors"
   ]
  },
  {
   "cell_type": "code",
   "execution_count": 22,
   "metadata": {
    "id": "5x7KK1--Kuvl"
   },
   "outputs": [],
   "source": [
    "EMBEDDING_DIM=100\n",
    "MIN_COUNT=4\n",
    "WINDOW=5 # the max distance btw a target word and words around it.\n",
    "WORKERS=3 #the num of partitions during training"
   ]
  },
  {
   "cell_type": "code",
   "execution_count": 23,
   "metadata": {
    "colab": {
     "base_uri": "https://localhost:8080/"
    },
    "id": "jkTLXOMRTxs2",
    "outputId": "7456b7ed-00b1-4404-ce47-027d854ad5bb"
   },
   "outputs": [
    {
     "data": {
      "text/plain": [
       "list"
      ]
     },
     "execution_count": 23,
     "metadata": {},
     "output_type": "execute_result"
    }
   ],
   "source": [
    "title_text = df['title_text'].tolist()\n",
    "type(title_text)"
   ]
  },
  {
   "cell_type": "code",
   "execution_count": 24,
   "metadata": {
    "id": "5dclhWH2KUEz"
   },
   "outputs": [],
   "source": [
    "if 'carrier' in title_text:\n",
    "  print(True)"
   ]
  },
  {
   "cell_type": "code",
   "execution_count": 25,
   "metadata": {
    "colab": {
     "base_uri": "https://localhost:8080/"
    },
    "id": "l1nMSpmlKv3q",
    "outputId": "c430dcb8-1a99-4358-eac4-4323169d932c"
   },
   "outputs": [
    {
     "name": "stdout",
     "output_type": "stream",
     "text": [
      "Vocab size:7860\n"
     ]
    }
   ],
   "source": [
    "\n",
    "model = gensim.models.Word2Vec(sentences=title_text, size=EMBEDDING_DIM,\n",
    "                window = WINDOW, min_count = MIN_COUNT, workers=WORKERS)\n",
    "words=list(model.wv.vocab)\n",
    "print('Vocab size:{}'.format(len(words)))"
   ]
  },
  {
   "cell_type": "code",
   "execution_count": 26,
   "metadata": {
    "id": "L2B1jHOyLsP1"
   },
   "outputs": [],
   "source": [
    "word_vectors = model.wv\n",
    "word_vectors.save(\"word2vec.wordvectors\")"
   ]
  },
  {
   "cell_type": "code",
   "execution_count": 27,
   "metadata": {
    "colab": {
     "base_uri": "https://localhost:8080/"
    },
    "id": "Qiq7JdxlW1dt",
    "outputId": "9aabe8bf-83f1-4a0e-f692-f0d628011c3a"
   },
   "outputs": [
    {
     "data": {
      "text/plain": [
       "array([-6.02211177e-01,  1.11514755e-01, -1.02601610e-01,  2.49327302e-01,\n",
       "        2.99291849e-01, -7.30343238e-02, -5.43575227e-01, -1.84723973e-01,\n",
       "        1.08394337e+00, -1.41092324e+00, -7.67262697e-01,  8.72772515e-01,\n",
       "        6.69275403e-01,  7.19345510e-02, -5.54503381e-01, -1.33677018e+00,\n",
       "       -4.59968179e-01, -4.51719373e-01,  3.73016149e-01, -1.98763907e-01,\n",
       "       -6.20344698e-01, -2.36982554e-01, -6.52078807e-01,  2.61517495e-01,\n",
       "        1.25242436e+00,  2.01398134e-01, -5.63823581e-02,  8.49937260e-01,\n",
       "        4.27332148e-02,  1.32794702e+00, -7.02852190e-01,  1.27538323e+00,\n",
       "        1.00661147e+00,  8.43592584e-01, -1.51611408e-02,  9.25414085e-01,\n",
       "        1.08837593e+00, -1.32310414e+00, -2.46851668e-01, -7.10209846e-01,\n",
       "        3.00451398e-01,  8.02641153e-01, -2.94685483e-01,  4.81487930e-01,\n",
       "        8.33078265e-01, -1.21527553e+00, -3.96139175e-01,  5.57752132e-01,\n",
       "        3.60735267e-01, -1.59792268e+00, -2.56283581e-02,  9.47295785e-01,\n",
       "       -3.21766883e-01, -9.89537776e-01,  7.34559238e-01, -1.03453752e-02,\n",
       "       -3.74688119e-01, -4.85267818e-01,  3.57218802e-01, -1.67233080e-01,\n",
       "       -1.94407299e-01, -1.41950786e-01,  5.67527950e-01, -3.18428457e-01,\n",
       "       -1.60712767e+00, -3.33182454e-01,  4.67010140e-01, -3.44913989e-01,\n",
       "       -1.96012020e-01, -7.38399550e-02,  4.50756431e-01, -1.95596859e-01,\n",
       "       -2.07953751e-01, -6.92995429e-01, -3.88285369e-01, -1.16616055e-01,\n",
       "        1.86851048e+00, -3.52785319e-01,  1.99501012e-02,  3.50032896e-01,\n",
       "        6.61110461e-01, -7.39305794e-01, -4.60336268e-01,  8.04921612e-02,\n",
       "        8.02084804e-01,  3.52382004e-01,  2.65302658e-01, -4.29544278e-04,\n",
       "       -2.59710908e-01, -2.14707941e-01, -8.60198498e-01, -1.01742041e+00,\n",
       "        1.86224103e-01, -1.19466746e+00, -2.05491222e-02,  1.22877836e-01,\n",
       "       -5.01135349e-01,  8.22912693e-01, -7.56011665e-01,  4.92399514e-01],\n",
       "      dtype=float32)"
      ]
     },
     "execution_count": 27,
     "metadata": {},
     "output_type": "execute_result"
    }
   ],
   "source": [
    "wv = KeyedVectors.load(\"word2vec.wordvectors\", mmap='r')\n",
    "wv['children']"
   ]
  },
  {
   "cell_type": "code",
   "execution_count": 28,
   "metadata": {
    "id": "c8LyM32YXIIm"
   },
   "outputs": [
    {
     "name": "stdout",
     "output_type": "stream",
     "text": [
      "Requirement already satisfied: tensorflow in /home/ec2-user/anaconda3/envs/python3/lib/python3.6/site-packages (2.4.1)\n",
      "Requirement already satisfied: google-pasta~=0.2 in /home/ec2-user/anaconda3/envs/python3/lib/python3.6/site-packages (from tensorflow) (0.2.0)\n",
      "Requirement already satisfied: absl-py~=0.10 in /home/ec2-user/anaconda3/envs/python3/lib/python3.6/site-packages (from tensorflow) (0.11.0)\n",
      "Requirement already satisfied: tensorflow-estimator<2.5.0,>=2.4.0 in /home/ec2-user/anaconda3/envs/python3/lib/python3.6/site-packages (from tensorflow) (2.4.0)\n",
      "Requirement already satisfied: wrapt~=1.12.1 in /home/ec2-user/anaconda3/envs/python3/lib/python3.6/site-packages (from tensorflow) (1.12.1)\n",
      "Requirement already satisfied: flatbuffers~=1.12.0 in /home/ec2-user/anaconda3/envs/python3/lib/python3.6/site-packages (from tensorflow) (1.12)\n",
      "Requirement already satisfied: numpy~=1.19.2 in /home/ec2-user/anaconda3/envs/python3/lib/python3.6/site-packages (from tensorflow) (1.19.5)\n",
      "Requirement already satisfied: gast==0.3.3 in /home/ec2-user/anaconda3/envs/python3/lib/python3.6/site-packages (from tensorflow) (0.3.3)\n",
      "Requirement already satisfied: opt-einsum~=3.3.0 in /home/ec2-user/anaconda3/envs/python3/lib/python3.6/site-packages (from tensorflow) (3.3.0)\n",
      "Requirement already satisfied: astunparse~=1.6.3 in /home/ec2-user/anaconda3/envs/python3/lib/python3.6/site-packages (from tensorflow) (1.6.3)\n",
      "Requirement already satisfied: h5py~=2.10.0 in /home/ec2-user/anaconda3/envs/python3/lib/python3.6/site-packages (from tensorflow) (2.10.0)\n",
      "Requirement already satisfied: termcolor~=1.1.0 in /home/ec2-user/anaconda3/envs/python3/lib/python3.6/site-packages (from tensorflow) (1.1.0)\n",
      "Requirement already satisfied: keras-preprocessing~=1.1.2 in /home/ec2-user/anaconda3/envs/python3/lib/python3.6/site-packages (from tensorflow) (1.1.2)\n",
      "Requirement already satisfied: tensorboard~=2.4 in /home/ec2-user/anaconda3/envs/python3/lib/python3.6/site-packages (from tensorflow) (2.4.1)\n",
      "Requirement already satisfied: grpcio~=1.32.0 in /home/ec2-user/anaconda3/envs/python3/lib/python3.6/site-packages (from tensorflow) (1.32.0)\n",
      "Requirement already satisfied: typing-extensions~=3.7.4 in /home/ec2-user/anaconda3/envs/python3/lib/python3.6/site-packages (from tensorflow) (3.7.4.3)\n",
      "Requirement already satisfied: protobuf>=3.9.2 in /home/ec2-user/anaconda3/envs/python3/lib/python3.6/site-packages (from tensorflow) (3.14.0)\n",
      "Requirement already satisfied: wheel~=0.35 in /home/ec2-user/anaconda3/envs/python3/lib/python3.6/site-packages (from tensorflow) (0.36.2)\n",
      "Requirement already satisfied: six~=1.15.0 in /home/ec2-user/anaconda3/envs/python3/lib/python3.6/site-packages (from tensorflow) (1.15.0)\n",
      "Requirement already satisfied: markdown>=2.6.8 in /home/ec2-user/anaconda3/envs/python3/lib/python3.6/site-packages (from tensorboard~=2.4->tensorflow) (3.3.3)\n",
      "Requirement already satisfied: tensorboard-plugin-wit>=1.6.0 in /home/ec2-user/anaconda3/envs/python3/lib/python3.6/site-packages (from tensorboard~=2.4->tensorflow) (1.8.0)\n",
      "Requirement already satisfied: requests<3,>=2.21.0 in /home/ec2-user/anaconda3/envs/python3/lib/python3.6/site-packages (from tensorboard~=2.4->tensorflow) (2.25.1)\n",
      "Requirement already satisfied: werkzeug>=0.11.15 in /home/ec2-user/anaconda3/envs/python3/lib/python3.6/site-packages (from tensorboard~=2.4->tensorflow) (1.0.1)\n",
      "Requirement already satisfied: setuptools>=41.0.0 in /home/ec2-user/anaconda3/envs/python3/lib/python3.6/site-packages (from tensorboard~=2.4->tensorflow) (51.1.2)\n",
      "Requirement already satisfied: google-auth-oauthlib<0.5,>=0.4.1 in /home/ec2-user/anaconda3/envs/python3/lib/python3.6/site-packages (from tensorboard~=2.4->tensorflow) (0.4.2)\n",
      "Requirement already satisfied: google-auth<2,>=1.6.3 in /home/ec2-user/anaconda3/envs/python3/lib/python3.6/site-packages (from tensorboard~=2.4->tensorflow) (1.25.0)\n",
      "Requirement already satisfied: pyasn1-modules>=0.2.1 in /home/ec2-user/anaconda3/envs/python3/lib/python3.6/site-packages (from google-auth<2,>=1.6.3->tensorboard~=2.4->tensorflow) (0.2.8)\n",
      "Requirement already satisfied: cachetools<5.0,>=2.0.0 in /home/ec2-user/anaconda3/envs/python3/lib/python3.6/site-packages (from google-auth<2,>=1.6.3->tensorboard~=2.4->tensorflow) (4.2.1)\n",
      "Requirement already satisfied: rsa<5,>=3.1.4 in /home/ec2-user/anaconda3/envs/python3/lib/python3.6/site-packages (from google-auth<2,>=1.6.3->tensorboard~=2.4->tensorflow) (4.5)\n",
      "Requirement already satisfied: requests-oauthlib>=0.7.0 in /home/ec2-user/anaconda3/envs/python3/lib/python3.6/site-packages (from google-auth-oauthlib<0.5,>=0.4.1->tensorboard~=2.4->tensorflow) (1.3.0)\n",
      "Requirement already satisfied: importlib-metadata in /home/ec2-user/anaconda3/envs/python3/lib/python3.6/site-packages (from markdown>=2.6.8->tensorboard~=2.4->tensorflow) (3.4.0)\n",
      "Requirement already satisfied: pyasn1<0.5.0,>=0.4.6 in /home/ec2-user/anaconda3/envs/python3/lib/python3.6/site-packages (from pyasn1-modules>=0.2.1->google-auth<2,>=1.6.3->tensorboard~=2.4->tensorflow) (0.4.8)\n",
      "Requirement already satisfied: certifi>=2017.4.17 in /home/ec2-user/anaconda3/envs/python3/lib/python3.6/site-packages (from requests<3,>=2.21.0->tensorboard~=2.4->tensorflow) (2020.12.5)\n",
      "Requirement already satisfied: chardet<5,>=3.0.2 in /home/ec2-user/anaconda3/envs/python3/lib/python3.6/site-packages (from requests<3,>=2.21.0->tensorboard~=2.4->tensorflow) (4.0.0)\n",
      "Requirement already satisfied: idna<3,>=2.5 in /home/ec2-user/anaconda3/envs/python3/lib/python3.6/site-packages (from requests<3,>=2.21.0->tensorboard~=2.4->tensorflow) (2.10)\n",
      "Requirement already satisfied: urllib3<1.27,>=1.21.1 in /home/ec2-user/anaconda3/envs/python3/lib/python3.6/site-packages (from requests<3,>=2.21.0->tensorboard~=2.4->tensorflow) (1.26.2)\n",
      "Requirement already satisfied: oauthlib>=3.0.0 in /home/ec2-user/anaconda3/envs/python3/lib/python3.6/site-packages (from requests-oauthlib>=0.7.0->google-auth-oauthlib<0.5,>=0.4.1->tensorboard~=2.4->tensorflow) (3.1.0)\n",
      "Requirement already satisfied: zipp>=0.5 in /home/ec2-user/anaconda3/envs/python3/lib/python3.6/site-packages (from importlib-metadata->markdown>=2.6.8->tensorboard~=2.4->tensorflow) (3.4.0)\n",
      "hey\n"
     ]
    }
   ],
   "source": [
    "#!pip install --upgrade pip\n",
    "#print(\"hey1\")\n",
    "#!pip uninstall tensorflow --y\n",
    "#print(\"hey2\")\n",
    "!pip install tensorflow\n",
    "print(\"hey\")\n",
    "from tensorflow.python.keras.preprocessing.text import Tokenizer\n",
    "from tensorflow.python.keras.preprocessing.sequence import pad_sequences"
   ]
  },
  {
   "cell_type": "code",
   "execution_count": 29,
   "metadata": {
    "id": "OmBeBgk9XPRc"
   },
   "outputs": [],
   "source": [
    "tokenizer = Tokenizer()\n",
    "tokenizer.fit_on_texts(title_text)\n",
    "sequences = tokenizer.texts_to_sequences(title_text)"
   ]
  },
  {
   "cell_type": "code",
   "execution_count": 30,
   "metadata": {
    "colab": {
     "base_uri": "https://localhost:8080/"
    },
    "id": "Ise_dUDhZnyN",
    "outputId": "efae723b-f4ef-4f6d-81b3-7325298ffb32"
   },
   "outputs": [
    {
     "name": "stdout",
     "output_type": "stream",
     "text": [
      "29138 unique tokens.\n"
     ]
    }
   ],
   "source": [
    "word_index = tokenizer.word_index\n",
    "print('{} unique tokens.'.format(len(word_index)))"
   ]
  },
  {
   "cell_type": "code",
   "execution_count": 31,
   "metadata": {
    "colab": {
     "base_uri": "https://localhost:8080/"
    },
    "id": "LGiqchVcdoVl",
    "outputId": "fee62f01-eebc-4c85-a4e8-0c47564e1855"
   },
   "outputs": [
    {
     "data": {
      "text/plain": [
       "(5083, 500)"
      ]
     },
     "execution_count": 31,
     "metadata": {},
     "output_type": "execute_result"
    }
   ],
   "source": [
    "des_pad = pad_sequences(sequences, maxlen=500)\n",
    "des_pad.shape"
   ]
  },
  {
   "cell_type": "code",
   "execution_count": 32,
   "metadata": {
    "colab": {
     "base_uri": "https://localhost:8080/"
    },
    "id": "4XYabsYTYcC-",
    "outputId": "81c0bd94-4a85-4cfd-aec1-e03178f17c32"
   },
   "outputs": [
    {
     "data": {
      "text/plain": [
       "29139"
      ]
     },
     "execution_count": 32,
     "metadata": {},
     "output_type": "execute_result"
    }
   ],
   "source": [
    "num_words = len(word_index)+1\n",
    "embedding_matrix = np.zeros((num_words, EMBEDDING_DIM))\n",
    "num_words"
   ]
  },
  {
   "cell_type": "code",
   "execution_count": 33,
   "metadata": {
    "id": "OzDe-G3LZlD2"
   },
   "outputs": [],
   "source": [
    "for word, i in word_index.items():\n",
    "  if word in wv:\n",
    "    embedding_vector = wv[word]\n",
    "  if embedding_vector is not None:\n",
    "    embedding_matrix[i] = embedding_vector "
   ]
  },
  {
   "cell_type": "code",
   "execution_count": 34,
   "metadata": {
    "colab": {
     "base_uri": "https://localhost:8080/"
    },
    "id": "ycW4PjuJyS9K",
    "outputId": "19e4335a-6396-4bd3-9147-db95eda146b1"
   },
   "outputs": [
    {
     "ename": "ModuleNotFoundError",
     "evalue": "No module named 'keras'",
     "output_type": "error",
     "traceback": [
      "\u001b[0;31m---------------------------------------------------------------------------\u001b[0m",
      "\u001b[0;31mModuleNotFoundError\u001b[0m                       Traceback (most recent call last)",
      "\u001b[0;32m<ipython-input-34-5e48c05f1f2d>\u001b[0m in \u001b[0;36m<module>\u001b[0;34m\u001b[0m\n\u001b[1;32m      7\u001b[0m \u001b[0;31m# saves a model or weights at some interval so the model can be loaded later to continue training from the state saved\u001b[0m\u001b[0;34m\u001b[0m\u001b[0;34m\u001b[0m\u001b[0;34m\u001b[0m\u001b[0m\n\u001b[1;32m      8\u001b[0m \u001b[0;34m\u001b[0m\u001b[0m\n\u001b[0;32m----> 9\u001b[0;31m \u001b[0;32mfrom\u001b[0m \u001b[0mkeras\u001b[0m\u001b[0;34m.\u001b[0m\u001b[0mcallbacks\u001b[0m \u001b[0;32mimport\u001b[0m \u001b[0mModelCheckpoint\u001b[0m\u001b[0;34m\u001b[0m\u001b[0;34m\u001b[0m\u001b[0m\n\u001b[0m\u001b[1;32m     10\u001b[0m \u001b[0;34m\u001b[0m\u001b[0m\n\u001b[1;32m     11\u001b[0m mc = ModelCheckpoint(\n",
      "\u001b[0;31mModuleNotFoundError\u001b[0m: No module named 'keras'"
     ]
    }
   ],
   "source": [
    "# verbose 0: silent, doesnt show anything\n",
    "# verbose 1: shows you progress bad\n",
    "# verbose 2: shows one line per epoch\n",
    "\n",
    "# check it out on keras, if u dont know how many epochs to do with model checkpoint, u can save on the best loss its ever seen or best validation accuracy its ever seen\n",
    "\n",
    "# saves a model or weights at some interval so the model can be loaded later to continue training from the state saved\n",
    "\n",
    "from keras.callbacks import ModelCheckpoint\n",
    "\n",
    "mc = ModelCheckpoint(\n",
    "    filepath = \"weights-improvement-{epoch:02d}-{val_accuracy:.2f}.hdf5\", # what to put here?\n",
    "    monitor = 'val_loss',\n",
    "    verbose = 0,\n",
    "    save_best_only = True, # least loss... as opposed to saving each model at the end of each epoch\n",
    "    save_weights_only = True, #\n",
    "    mode = 'min') # min bc we want to minimize loss. max is for val_acc\n",
    "\n",
    "\n",
    "# stops training when a monitored metric has stopped improving\n",
    "\n",
    "from keras.callbacks import EarlyStopping\n",
    "\n",
    "es = EarlyStopping(\n",
    "    monitor = 'val_loss', # monitor the loss\n",
    "    min_delta = 0.01, # wait patience periods for it to do better by the min delta, if it does not then stops training\n",
    "    patience = 2, # number of epochs with no improvement\n",
    "    verbose = 1, \n",
    "    mode = 'min')\n",
    "\n",
    "#from keras.callbacks import LearningRateScheduler\n",
    "\n",
    "#lrs = LearningRateScheduler(lambda epoch: 1./epoch) # at the end of each epoch change the learning rate \n",
    "\n",
    "\n",
    "# reduce learning rate when a metric has stopped improving \n",
    "\n",
    "from keras.callbacks import ReduceLROnPlateau # hardly uses this\n",
    "\n",
    "# models often benefit from reducing the learning rate once learning stagnates\n",
    "rlrop = ReduceLROnPlateau(\n",
    "    monitor = 'val_loss',\n",
    "    factor = 0.1,\n",
    "    patience = 2, # if model does not see improvement by epsilon after 2 epochs then reduce the learning rate\n",
    "    verbose = 0,\n",
    "    mode = 'min',\n",
    "    epsilon = 0.0001,\n",
    "    cooldown = 2, # wait 2 epochs before monitoring the metrics again\n",
    "    min_lr = 0 # minimum learning rate\n",
    " )\n",
    "\n"
   ]
  },
  {
   "cell_type": "code",
   "execution_count": 35,
   "metadata": {
    "colab": {
     "base_uri": "https://localhost:8080/",
     "height": 375
    },
    "id": "Aghkb3KHv8Z7",
    "outputId": "48d5fc29-a1d9-4861-9c82-e51fae6162d6"
   },
   "outputs": [
    {
     "ename": "ModuleNotFoundError",
     "evalue": "No module named 'keras'",
     "output_type": "error",
     "traceback": [
      "\u001b[0;31m---------------------------------------------------------------------------\u001b[0m",
      "\u001b[0;31mModuleNotFoundError\u001b[0m                       Traceback (most recent call last)",
      "\u001b[0;32m<ipython-input-35-5f530fcd6fcd>\u001b[0m in \u001b[0;36m<module>\u001b[0;34m\u001b[0m\n\u001b[1;32m      1\u001b[0m \u001b[0;31m# CNN\u001b[0m\u001b[0;34m\u001b[0m\u001b[0;34m\u001b[0m\u001b[0;34m\u001b[0m\u001b[0m\n\u001b[0;32m----> 2\u001b[0;31m \u001b[0;32mfrom\u001b[0m \u001b[0mkeras\u001b[0m \u001b[0;32mimport\u001b[0m \u001b[0mlayers\u001b[0m\u001b[0;34m\u001b[0m\u001b[0;34m\u001b[0m\u001b[0m\n\u001b[0m\u001b[1;32m      3\u001b[0m \u001b[0;34m\u001b[0m\u001b[0m\n\u001b[1;32m      4\u001b[0m \u001b[0;32mimport\u001b[0m \u001b[0mkeras\u001b[0m\u001b[0;34m\u001b[0m\u001b[0;34m\u001b[0m\u001b[0m\n\u001b[1;32m      5\u001b[0m \u001b[0;32mfrom\u001b[0m \u001b[0mkeras\u001b[0m\u001b[0;34m.\u001b[0m\u001b[0mmodels\u001b[0m \u001b[0;32mimport\u001b[0m \u001b[0mSequential\u001b[0m\u001b[0;34m\u001b[0m\u001b[0;34m\u001b[0m\u001b[0m\n",
      "\u001b[0;31mModuleNotFoundError\u001b[0m: No module named 'keras'"
     ]
    }
   ],
   "source": [
    "# CNN \n",
    "from keras import layers\n",
    "\n",
    "import keras\n",
    "from keras.models import Sequential\n",
    "from keras.layers import Embedding\n",
    "from keras.preprocessing import sequence\n",
    "from tensorflow.keras.layers import LSTM, Dropout\n",
    "from keras.initializers import Constant\n",
    "\n",
    "model2 = Sequential()\n",
    "model2.add(Embedding(num_words, EMBEDDING_DIM,\n",
    "          embeddings_initializer = Constant(embedding_matrix),\n",
    "          trainable=False))\n",
    "model2.add(layers.Conv2D(128, 5, activation='relu'))\n",
    "model2.add(layers.GlobalMaxPooling1D())\n",
    "model2.add(layers.Dense(10, activation='relu'))\n",
    "model2.add(layers.Dense(1, activation='sigmoid'))\n",
    "model2.compile(optimizer='adam',\n",
    "              loss='binary_crossentropy',\n",
    "              metrics=['accuracy'])\n",
    "print(model2.summary())"
   ]
  },
  {
   "cell_type": "code",
   "execution_count": 37,
   "metadata": {
    "colab": {
     "base_uri": "https://localhost:8080/"
    },
    "id": "R2m_oRi_yEOM",
    "outputId": "efaa34d3-26b7-4fe5-ed65-93949e964290"
   },
   "outputs": [
    {
     "name": "stdout",
     "output_type": "stream",
     "text": [
      "Collecting keras\n",
      "  Downloading Keras-2.4.3-py2.py3-none-any.whl (36 kB)\n",
      "Requirement already satisfied: scipy>=0.14 in /home/ec2-user/anaconda3/envs/python3/lib/python3.6/site-packages (from keras) (1.4.1)\n",
      "Requirement already satisfied: numpy>=1.9.1 in /home/ec2-user/anaconda3/envs/python3/lib/python3.6/site-packages (from keras) (1.19.5)\n",
      "Requirement already satisfied: h5py in /home/ec2-user/anaconda3/envs/python3/lib/python3.6/site-packages (from keras) (2.10.0)\n",
      "Requirement already satisfied: pyyaml in /home/ec2-user/anaconda3/envs/python3/lib/python3.6/site-packages (from keras) (5.3.1)\n",
      "Requirement already satisfied: six in /home/ec2-user/anaconda3/envs/python3/lib/python3.6/site-packages (from h5py->keras) (1.15.0)\n",
      "Installing collected packages: keras\n",
      "Successfully installed keras-2.4.3\n",
      "Model: \"sequential\"\n",
      "_________________________________________________________________\n",
      "Layer (type)                 Output Shape              Param #   \n",
      "=================================================================\n",
      "embedding (Embedding)        (None, None, 100)         2913900   \n",
      "_________________________________________________________________\n",
      "dropout (Dropout)            (None, None, 100)         0         \n",
      "_________________________________________________________________\n",
      "lstm (LSTM)                  (None, 256)               365568    \n",
      "_________________________________________________________________\n",
      "dropout_1 (Dropout)          (None, 256)               0         \n",
      "_________________________________________________________________\n",
      "dense (Dense)                (None, 1)                 257       \n",
      "=================================================================\n",
      "Total params: 3,279,725\n",
      "Trainable params: 365,825\n",
      "Non-trainable params: 2,913,900\n",
      "_________________________________________________________________\n",
      "None\n"
     ]
    }
   ],
   "source": [
    "#LSTM\n",
    "!pip install keras\n",
    "import keras\n",
    "from keras.models import Sequential\n",
    "from keras.layers import Embedding\n",
    "from keras.preprocessing import sequence\n",
    "from tensorflow.keras.layers import LSTM, Dropout\n",
    "from keras.initializers import Constant\n",
    "\n",
    "model= keras.Sequential()\n",
    "model.add(Embedding(num_words, EMBEDDING_DIM,\n",
    "          embeddings_initializer = Constant(embedding_matrix),\n",
    "          trainable=False))\n",
    "model.add(Dropout(0.3))\n",
    "model.add(keras.layers.LSTM(256))\n",
    "model.add(Dropout(.3))\n",
    "model.add(keras.layers.Dense(1, activation = \"sigmoid\")) \n",
    "model.compile(loss='binary_crossentropy',optimizer='adam',metrics=['accuracy'])\n",
    "print(model.summary())\n"
   ]
  },
  {
   "cell_type": "code",
   "execution_count": null,
   "metadata": {
    "colab": {
     "base_uri": "https://localhost:8080/"
    },
    "id": "Af-zVzOOPmqe",
    "outputId": "794c7031-84b8-4edb-832a-0d0b57c90c70"
   },
   "outputs": [
    {
     "name": "stdout",
     "output_type": "stream",
     "text": [
      "Model: \"sequential_5\"\n",
      "_________________________________________________________________\n",
      "Layer (type)                 Output Shape              Param #   \n",
      "=================================================================\n",
      "embedding_3 (Embedding)      (None, None, 100)         2913900   \n",
      "_________________________________________________________________\n",
      "conv1d (Conv1D)              (None, None, 128)         64128     \n",
      "_________________________________________________________________\n",
      "global_max_pooling1d (Global (None, 128)               0         \n",
      "_________________________________________________________________\n",
      "dense_2 (Dense)              (None, 10)                1290      \n",
      "_________________________________________________________________\n",
      "dense_3 (Dense)              (None, 1)                 11        \n",
      "=================================================================\n",
      "Total params: 2,979,329\n",
      "Trainable params: 65,429\n",
      "Non-trainable params: 2,913,900\n",
      "_________________________________________________________________\n",
      "None\n"
     ]
    }
   ],
   "source": [
    "# CNN \n",
    "from keras import layers\n",
    "\n",
    "model2 = Sequential()\n",
    "model2.add(Embedding(num_words, EMBEDDING_DIM,\n",
    "          embeddings_initializer = Constant(embedding_matrix),\n",
    "          trainable=False))\n",
    "model2.add(layers.Conv1D(128, 5, activation='relu'))\n",
    "# gloabl max pooling has no hyperparameters to learn\n",
    "model2.add(layers.GlobalMaxPooling1D())\n",
    "model2.add(layers.Dense(10, activation='relu'))\n",
    "model2.add(layers.Dense(1, activation='sigmoid'))\n",
    "model2.compile(optimizer='adam',\n",
    "              loss='binary_crossentropy',\n",
    "              metrics=['accuracy'])\n",
    "print(model2.summary())"
   ]
  },
  {
   "cell_type": "code",
   "execution_count": 38,
   "metadata": {
    "id": "2SQOgEJaRg0n"
   },
   "outputs": [],
   "source": [
    "l = df['label'].tolist()"
   ]
  },
  {
   "cell_type": "code",
   "execution_count": 39,
   "metadata": {
    "colab": {
     "base_uri": "https://localhost:8080/"
    },
    "id": "6evWFEQ3cqA7",
    "outputId": "3b2a93d5-22d6-46f1-e6a3-11c01c9df511"
   },
   "outputs": [
    {
     "name": "stdout",
     "output_type": "stream",
     "text": [
      "5083\n",
      "1    3639\n",
      "0    1444\n",
      "Name: label, dtype: int64\n"
     ]
    }
   ],
   "source": [
    "label_test = df['label'].tolist()\n",
    "print(len(label_test))\n",
    "print(df['label'].value_counts())"
   ]
  },
  {
   "cell_type": "code",
   "execution_count": 40,
   "metadata": {
    "id": "j5izrATIaybi"
   },
   "outputs": [],
   "source": [
    "VALIDATION_SPLIT=0.3\n",
    "\n",
    "indices = np.arange(des_pad.shape[0])\n",
    "np.random.shuffle(indices)\n",
    "des_pad = des_pad[indices]\n",
    "l = np.array(l)\n",
    "l = l[indices.astype(int)]\n",
    "num_vali_samples = int(VALIDATION_SPLIT*des_pad.shape[0])"
   ]
  },
  {
   "cell_type": "code",
   "execution_count": 41,
   "metadata": {
    "colab": {
     "base_uri": "https://localhost:8080/"
    },
    "id": "1t-8VCpSOxlx",
    "outputId": "198ab751-c496-42e5-a54a-c013f8549350"
   },
   "outputs": [
    {
     "data": {
      "text/plain": [
       "5083"
      ]
     },
     "execution_count": 41,
     "metadata": {},
     "output_type": "execute_result"
    }
   ],
   "source": [
    "len(l)"
   ]
  },
  {
   "cell_type": "code",
   "execution_count": 42,
   "metadata": {
    "id": "5Nx-Ob4Fa_tk"
   },
   "outputs": [],
   "source": [
    "X_train_pad = des_pad[:-num_vali_samples]\n",
    "y_train = l[:-num_vali_samples]\n",
    "X_test_pad = des_pad[-num_vali_samples:]\n",
    "y_test = l[-num_vali_samples:]"
   ]
  },
  {
   "cell_type": "code",
   "execution_count": 43,
   "metadata": {
    "colab": {
     "base_uri": "https://localhost:8080/"
    },
    "id": "7fz-j3MBcNHT",
    "outputId": "f993d8d8-1b08-467c-8147-4f766f399aca"
   },
   "outputs": [
    {
     "name": "stdout",
     "output_type": "stream",
     "text": [
      "Shape of X_train_pad tensor: (3559, 500)\n",
      "Shape of y_train tensor: (3559,)\n",
      "Shape of X_test_pad tensor: (1524, 500)\n",
      "Shape of y_test tensor: (1524,)\n"
     ]
    }
   ],
   "source": [
    "print('Shape of X_train_pad tensor: {}'.format(X_train_pad.shape))\n",
    "print('Shape of y_train tensor: {}'.format(y_train.shape))\n",
    "print('Shape of X_test_pad tensor: {}'.format(X_test_pad.shape))\n",
    "print('Shape of y_test tensor: {}'.format(y_test.shape))"
   ]
  },
  {
   "cell_type": "code",
   "execution_count": 44,
   "metadata": {
    "colab": {
     "base_uri": "https://localhost:8080/"
    },
    "id": "kVk7ZQEGLnO9",
    "outputId": "dd1add1c-deac-4466-df33-6f1b5b5f08b6"
   },
   "outputs": [
    {
     "data": {
      "text/plain": [
       "array([[   0,    0,    0, ..., 1070,   65, 5367],\n",
       "       [   0,    0,    0, ...,   67,   25,    3],\n",
       "       [   0,    0,    0, ...,  540,   52,   50],\n",
       "       ...,\n",
       "       [   0,    0,    0, ...,    6,  480, 1508],\n",
       "       [   0,    0,    0, ...,  507,  136,   60],\n",
       "       [   0,    0,    0, ...,  440,  418,   70]], dtype=int32)"
      ]
     },
     "execution_count": 44,
     "metadata": {},
     "output_type": "execute_result"
    }
   ],
   "source": [
    "des_pad"
   ]
  },
  {
   "cell_type": "code",
   "execution_count": 46,
   "metadata": {
    "colab": {
     "base_uri": "https://localhost:8080/"
    },
    "id": "AA0Hhv6KcPe2",
    "outputId": "49248acc-c39d-4e3a-96ac-b5adba78f63b"
   },
   "outputs": [
    {
     "name": "stdout",
     "output_type": "stream",
     "text": [
      "Epoch 1/10\n",
      "14/14 [==============================] - 65s 5s/step - loss: 0.3560 - accuracy: 0.8379 - val_loss: 0.3543 - val_accuracy: 0.8327\n",
      "Epoch 2/10\n",
      "14/14 [==============================] - 63s 4s/step - loss: 0.3023 - accuracy: 0.8722 - val_loss: 0.3182 - val_accuracy: 0.8675\n",
      "Epoch 3/10\n",
      "14/14 [==============================] - 62s 4s/step - loss: 0.2658 - accuracy: 0.8876 - val_loss: 0.2909 - val_accuracy: 0.8701\n",
      "Epoch 4/10\n",
      "14/14 [==============================] - 64s 5s/step - loss: 0.2509 - accuracy: 0.8977 - val_loss: 0.2601 - val_accuracy: 0.8924\n",
      "Epoch 5/10\n",
      "14/14 [==============================] - 63s 5s/step - loss: 0.2315 - accuracy: 0.9067 - val_loss: 0.2529 - val_accuracy: 0.8970\n",
      "Epoch 6/10\n",
      "14/14 [==============================] - 63s 5s/step - loss: 0.2300 - accuracy: 0.9045 - val_loss: 0.2759 - val_accuracy: 0.8944\n",
      "Epoch 7/10\n",
      "14/14 [==============================] - 64s 5s/step - loss: 0.2180 - accuracy: 0.9168 - val_loss: 0.2590 - val_accuracy: 0.8970\n",
      "Epoch 8/10\n",
      "14/14 [==============================] - 63s 5s/step - loss: 0.2120 - accuracy: 0.9174 - val_loss: 0.2609 - val_accuracy: 0.8983\n",
      "Epoch 9/10\n",
      "14/14 [==============================] - 63s 5s/step - loss: 0.2086 - accuracy: 0.9123 - val_loss: 0.2822 - val_accuracy: 0.8898\n",
      "Epoch 10/10\n",
      "14/14 [==============================] - 64s 5s/step - loss: 0.1971 - accuracy: 0.9261 - val_loss: 0.2537 - val_accuracy: 0.8976\n"
     ]
    },
    {
     "data": {
      "text/plain": [
       "<tensorflow.python.keras.callbacks.History at 0x7f9a18099898>"
      ]
     },
     "execution_count": 46,
     "metadata": {},
     "output_type": "execute_result"
    }
   ],
   "source": [
    "# LSTM\n",
    "\n",
    "model.fit(X_train_pad, y_train, batch_size=256, epochs=10, \n",
    "          validation_data=(X_test_pad, y_test), verbose=1)"
   ]
  },
  {
   "cell_type": "code",
   "execution_count": null,
   "metadata": {
    "colab": {
     "base_uri": "https://localhost:8080/"
    },
    "id": "QZUAO6pwQFxT",
    "outputId": "d285df87-ed5c-46b4-88cd-8cfcea88fb12"
   },
   "outputs": [
    {
     "name": "stdout",
     "output_type": "stream",
     "text": [
      "Epoch 1/50\n",
      "7/7 [==============================] - 11s 2s/step - loss: 0.4911 - accuracy: 0.7185 - val_loss: 0.3795 - val_accuracy: 0.8025\n",
      "Epoch 2/50\n",
      "7/7 [==============================] - 11s 2s/step - loss: 0.3236 - accuracy: 0.8530 - val_loss: 0.2888 - val_accuracy: 0.8701\n",
      "Epoch 3/50\n",
      "7/7 [==============================] - 12s 2s/step - loss: 0.2586 - accuracy: 0.8862 - val_loss: 0.2607 - val_accuracy: 0.8904\n",
      "Epoch 4/50\n",
      "7/7 [==============================] - 12s 2s/step - loss: 0.2221 - accuracy: 0.9146 - val_loss: 0.2411 - val_accuracy: 0.8996\n",
      "Epoch 5/50\n",
      "7/7 [==============================] - 12s 2s/step - loss: 0.1940 - accuracy: 0.9292 - val_loss: 0.2326 - val_accuracy: 0.9068\n",
      "Epoch 6/50\n",
      "7/7 [==============================] - 11s 2s/step - loss: 0.1717 - accuracy: 0.9387 - val_loss: 0.2227 - val_accuracy: 0.9101\n",
      "Epoch 7/50\n",
      "7/7 [==============================] - 11s 2s/step - loss: 0.1548 - accuracy: 0.9449 - val_loss: 0.2175 - val_accuracy: 0.9134\n",
      "Epoch 8/50\n",
      "7/7 [==============================] - 11s 2s/step - loss: 0.1398 - accuracy: 0.9531 - val_loss: 0.2149 - val_accuracy: 0.9154\n",
      "Epoch 00008: early stopping\n"
     ]
    },
    {
     "data": {
      "text/plain": [
       "<tensorflow.python.keras.callbacks.History at 0x7f895855b780>"
      ]
     },
     "execution_count": 51,
     "metadata": {
      "tags": []
     },
     "output_type": "execute_result"
    }
   ],
   "source": [
    "# CNN\n",
    "\n",
    "model2.fit(X_train_pad, y_train,\n",
    "                    epochs=50,\n",
    "                    validation_data=(X_test_pad, y_test),\n",
    "                    batch_size=512,\n",
    "                    callbacks = [mc, es, rlrop])"
   ]
  },
  {
   "cell_type": "code",
   "execution_count": null,
   "metadata": {
    "id": "vXHX7E4HjVzw"
   },
   "outputs": [],
   "source": [
    "def pred_result(model):\n",
    "  y_pred = model.predict(X_test_pad)\n",
    "  y=y_pred\n",
    "  y=np.where(y>0.5, 1, y)\n",
    "  y=np.where(y<0.5, 0, y)\n",
    "  return y"
   ]
  },
  {
   "cell_type": "code",
   "execution_count": null,
   "metadata": {
    "id": "BLv7EZD7Lyto"
   },
   "outputs": [],
   "source": [
    "from sklearn.metrics import classification_report, accuracy_score"
   ]
  },
  {
   "cell_type": "code",
   "execution_count": null,
   "metadata": {
    "colab": {
     "base_uri": "https://localhost:8080/"
    },
    "id": "dlGf-dKsGcaN",
    "outputId": "8e6291e1-63a6-459e-f2ad-ced3e63c3179"
   },
   "outputs": [
    {
     "name": "stdout",
     "output_type": "stream",
     "text": [
      "---Test Set Results---\n",
      "Accuracy with lSTM:0.9048556430446194\n",
      "              precision    recall  f1-score   support\n",
      "\n",
      "           0       0.87      0.78      0.82       425\n",
      "           1       0.92      0.95      0.94      1099\n",
      "\n",
      "    accuracy                           0.90      1524\n",
      "   macro avg       0.89      0.87      0.88      1524\n",
      "weighted avg       0.90      0.90      0.90      1524\n",
      "\n"
     ]
    }
   ],
   "source": [
    "# LSTM results\n",
    "\n",
    "y = pred_result(model)\n",
    "print(\"---Test Set Results---\")\n",
    "print(\"Accuracy with lSTM:{}\".format(accuracy_score(y_test, y)))\n",
    "print(classification_report(y_test, y))"
   ]
  },
  {
   "cell_type": "code",
   "execution_count": null,
   "metadata": {
    "colab": {
     "base_uri": "https://localhost:8080/"
    },
    "id": "CktFanQDQetI",
    "outputId": "f4332f3d-97a4-4062-c152-f169a520278f"
   },
   "outputs": [
    {
     "name": "stdout",
     "output_type": "stream",
     "text": [
      "---Test Set Results---\n",
      "Accuracy with CNN:0.9153543307086615\n",
      "              precision    recall  f1-score   support\n",
      "\n",
      "           0       0.85      0.84      0.85       425\n",
      "           1       0.94      0.94      0.94      1099\n",
      "\n",
      "    accuracy                           0.92      1524\n",
      "   macro avg       0.90      0.89      0.89      1524\n",
      "weighted avg       0.92      0.92      0.92      1524\n",
      "\n"
     ]
    }
   ],
   "source": [
    "# CNN results\n",
    "y2 = pred_result(model2)\n",
    "print(\"---Test Set Results---\")\n",
    "print(\"Accuracy with CNN:{}\".format(accuracy_score(y_test, y2)))\n",
    "print(classification_report(y_test, y2))"
   ]
  },
  {
   "cell_type": "code",
   "execution_count": null,
   "metadata": {
    "id": "xRPtGz3ocQ19"
   },
   "outputs": [],
   "source": [
    "import json\n",
    "import tensorflow as tf"
   ]
  },
  {
   "cell_type": "code",
   "execution_count": null,
   "metadata": {
    "id": "MI3a4gxmJy0L"
   },
   "outputs": [],
   "source": [
    "model.save(\"LSTM.h5\")"
   ]
  },
  {
   "cell_type": "code",
   "execution_count": null,
   "metadata": {
    "id": "Fe09_Gjm4GHF"
   },
   "outputs": [],
   "source": [
    "model = tf.keras.models.load_model(\"LSTM.h5\")"
   ]
  },
  {
   "cell_type": "code",
   "execution_count": null,
   "metadata": {
    "id": "XDq_xqWt4VgD"
   },
   "outputs": [],
   "source": [
    "model2.save(\"CNN.h5\")"
   ]
  },
  {
   "cell_type": "code",
   "execution_count": null,
   "metadata": {
    "id": "nrXFN5yERATd"
   },
   "outputs": [],
   "source": []
  }
 ],
 "metadata": {
  "colab": {
   "collapsed_sections": [],
   "name": "LSTM and CNN model.ipynb",
   "provenance": []
  },
  "kernelspec": {
   "display_name": "conda_python3",
   "language": "python",
   "name": "conda_python3"
  },
  "language_info": {
   "codemirror_mode": {
    "name": "ipython",
    "version": 3
   },
   "file_extension": ".py",
   "mimetype": "text/x-python",
   "name": "python",
   "nbconvert_exporter": "python",
   "pygments_lexer": "ipython3",
   "version": "3.6.10"
  }
 },
 "nbformat": 4,
 "nbformat_minor": 1
}
